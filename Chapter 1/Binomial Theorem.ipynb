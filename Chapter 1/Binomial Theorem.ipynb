{
 "cells": [
  {
   "cell_type": "markdown",
   "metadata": {},
   "source": [
    "### 1.3.2 The Binomial Theorem\n",
    "#### 1.53 Conjecture a formula for $(x+y)^n$\n",
    "$$(x+y)^n = \\sum_{k=0}^n \\binom{n}{k}x^k y^{n-k} $$\n",
    "\n",
    "#### 1.54 When we apply the distributive law $n$ times to $(x+y)^n$ we get a sum of terms of the form $x^i y^{n-i}$ for various values of the integer $i$.\n",
    "##### (i) Expand the product $(x_1+y_1)(x_2+y_2)(x_3+y_3)$\n",
    "$$(x_1+y_1)(x_2+y_2)(x_3+y_3) = x_1x_2x_3 + x_1x_2y_3 + x_1y_2x_3 + y_1x_2x_3 + y_1x_2y_3 + y_1y_2x_3 + y_1y_2y_3$$\n",
    "\n",
    "##### (ii) What do you get when you substitute $x$ for each $x_i$ and $y$ for each $y_i$?\n",
    "After substituting we get\n",
    "$$(x+y)^3 = x^3 + x^2y + y^2x + y^3$$\n",
    "\n",
    "##### (iii) Now imagine expanding $(x_1+y_1)(x_2+y_2)\\cdots(x_n+y_n)$. Once you apply the commutative law to the individual terms you get, you will have a sum of the form $x_{k_1}x_{k_2}\\cdots x_{k_i} \\cdot y_{j_1}y_{j_2}\\cdots y_{j_{n-i}}$. What is the set $\\{k_1,\\cdots,k_i\\} \\cup \\{j_1,\\cdots,j_{n-i}\\}$?.\n",
    "Looking at part (i) we notice that when ignoring $x$'s and $y$'s, the indices of each term are $1,2,3$. Thus in the case of performing $n$ products, we can infer that the union of the sets will be the first $n$ integers, i.e. the set $[n]$.\n",
    "\n",
    "##### (iv) In how many ways can you choose the set $\\{k_1,\\cdots,k_i\\}$?\n",
    "We can choose this set in $\\binom{n}{i}$ ways.\n",
    "\n",
    "##### (v) Once you have chosen this set, how many choices do you have for $\\{j_1,\\cdots,j_{n-i}\\}$?\n",
    "We can choose this set in $\\binom{n}{n-i} = \\binom{n}{i}$ (note the symmetry).\n",
    "\n",
    "##### (vi) If you substitute $x$ for each $x_i$ and $y$ for each $y_i$, how many terms of the form $x^iy^{n-i}$ will you have in the expanded product $(x_1+y_1)(x_2+y_2)\\cdots(x_n+y_n) = (x+y)^n$?\n",
    "There will be $\\binom{n}{i}$ terms of the form $x^i y^{n-i}$.\n",
    "\n",
    "##### (vii) How many terms of the form $x^{n-i}y^i$ will you have?\n",
    "There will be $\\binom{n}{n-i}$ terms. Again note the symmetry here. This is also justifiable by the observation that $x$ and $y$ are placeholder variables, so exchanging them should not change anything.\n",
    "\n",
    "#### 1.55 What is $\\sum_{i=1}^{10}\\binom{10}{i} 3^i$?\n",
    "Note that $$\\sum_{i=1}^{10}\\binom{10}{i} 3^i = \\sum_{i=0}^{10}\\binom{10}{i} 3^i 1^{10-i} - \\binom{10}{0}3^0.$$\n",
    "Thus by the binomial theorem we have that\n",
    "$$\\sum_{i=1}^{10}\\binom{10}{i}3^i = (3+1)^{10}-1 = 4^{10}-1$$\n",
    "Let's check the answer with python."
   ]
  },
  {
   "cell_type": "code",
   "execution_count": 2,
   "metadata": {},
   "outputs": [
    {
     "name": "stdout",
     "output_type": "stream",
     "text": [
      "1048575\n",
      "1048575\n"
     ]
    }
   ],
   "source": [
    "from math import factorial\n",
    "def nCi(n,i):\n",
    "    return factorial(n) / (factorial(n-i)*factorial(i))\n",
    "\n",
    "n = 10\n",
    "foo = 0\n",
    "for i in range(1,11):\n",
    "    foo += nCi(n,i) * 3**i\n",
    "    \n",
    "bar = 4**10 - 1\n",
    "\n",
    "print foo\n",
    "print bar"
   ]
  },
  {
   "cell_type": "markdown",
   "metadata": {},
   "source": [
    "#### 1.56 What is $\\binom{n}{0} - \\binom{n}{1} + \\binom{n}{2} - \\cdots \\pm \\binom{n}{n}$?\n",
    "Fix $n>0$ and we have \n",
    "$$\\binom{n}{0} - \\binom{n}{1} + \\binom{n}{2} - \\cdots \\pm \\binom{n}{n} = \\sum_{i=0}^n \\binom{n}{i}(-1)^i(1)^{n-i} = (-1+1)^n = 0$$\n",
    "\n",
    "#### 1.57 Explain why $$\\sum_{i=0}^k \\binom{m}{i} \\binom{n}{k-i} = \\binom{m+n}{k}.$$ Find two different explanations.\n",
    "......\n",
    "......\n",
    "\n",
    "\n",
    "#### 1.59 What is $\\sum_{i=0}^n i \\binom{n}{i}$?\n",
    "We use the identity $i\\binom{n}{i} = n\\binom{n-1}{i-1}$ since\n",
    "$$i\\binom{n}{i} = i \\cdot \\frac{n(n-1)!}{(n-i)!i!} = n\\cdot \\frac{(n-1)!}{(n-i)!(i-1)!} = n \\frac{(n-1)!}{((n-1)-(i-1))!(i-1)!} =  n\\binom{n-1}{i-1}.$$\n",
    "\n",
    "We differentiate $(x+1)^n$ with respect to $x$ to get \n",
    "$$\\frac{d}{dx}(x+1)^n = n(x+1)^{n-1}.$$ \n",
    "Now differentiate $\\sum_{i=0}^n \\binom{n}{i}x^i 1^{n-i}$ with respect to $x$ to get\n",
    "$$ \\frac{d}{dx}\\sum_{i=0}^n \\binom{n}{i}x^i 1^{n-i} = \\sum_{i=0}^n i \\binom{n}{i} x^{i-1}1^{n-i} = n\\sum_{i=0}^{n-1}\\binom{n-1}{i-1}x^{i-1}1^{n-i} = n\\sum_{i=0}^{n-1}\\binom{n-1}{i}x^i1^{n-1-i} = n(x+1)^{n-1}.$$\n",
    "Thus the formulas agree and so we may put $x=1$ to get\n",
    "$$\\sum_{i=0}^n i \\binom{n}{i} = n2^{n-1}.$$\n",
    "\n",
    "Again we can use python to make sure that the results agree."
   ]
  },
  {
   "cell_type": "code",
   "execution_count": 18,
   "metadata": {},
   "outputs": [
    {
     "name": "stdout",
     "output_type": "stream",
     "text": [
      "[1, 4, 12, 32, 80, 192, 448, 1024, 2304, 5120, 11264, 24576, 53248, 114688, 245760, 524288, 1114112, 2359296]\n",
      "[1, 4, 12, 32, 80, 192, 448, 1024, 2304, 5120, 11264, 24576, 53248, 114688, 245760, 524288, 1114112, 2359296]\n"
     ]
    }
   ],
   "source": [
    "derived_vals = [n*2**(n-1) for n in range(1,19)]\n",
    "\n",
    "calculated_vals = []\n",
    "\n",
    "for n in range(1,19):\n",
    "    temp = 0\n",
    "    for i in range(n+1):\n",
    "        temp += i * nCi(n,i)\n",
    "        \n",
    "    calculated_vals.append(temp)\n",
    "\n",
    "print derived_vals\n",
    "print calculated_vals"
   ]
  }
 ],
 "metadata": {
  "kernelspec": {
   "display_name": "Python 2",
   "language": "python",
   "name": "python2"
  },
  "language_info": {
   "codemirror_mode": {
    "name": "ipython",
    "version": 2
   },
   "file_extension": ".py",
   "mimetype": "text/x-python",
   "name": "python",
   "nbconvert_exporter": "python",
   "pygments_lexer": "ipython2",
   "version": "2.7.13"
  }
 },
 "nbformat": 4,
 "nbformat_minor": 2
}
