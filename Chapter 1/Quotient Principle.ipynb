{
 "cells": [
  {
   "cell_type": "markdown",
   "metadata": {},
   "source": [
    "## 1.2.6 The Quotient Principle\n",
    "#### 1.2.6.34\n",
    "##### (a) What is it that is different between the number of ways to stack ice cream in a triple decker cone with three different flavors of ice cream and the number of ways to simply choose three different flavors of ice cream?\n",
    "The difference arises from the ordering present in the triple decker cone. When simply choosing three different flavors, one ends up with an object that has no dependence on order, e.g. picking strawberry, vanilla, and chocolate is the same as picking vanilla, chocolate, and strawberry. But when picking those three flavors for an ice cream cone, there is a first, second, and third scoop, hence chocolate first is distinct from chocolate second.\n",
    "\n",
    "##### (b) In particular, how many different triple decker cones use vanilla, chocolate, and strawberry?\n",
    "There are $3!=6$ different triple decker cones using vanilla, chocolate and strawberry; $3$ choices for the first scoop, $2$ choices for the second scoop, and $1$ choice for the third scoop.\n",
    "\n",
    "##### (c) Using your answer from part 34b, compute the number of ways to choose three different flavors of ice cream (out of twelve flavors) from the number of ways to choose a triple decker cone with three different flavors (out of twelve flavors).\n",
    "With the particular language we are using the number of ways to choose three different flavors of ice cream from $12$ particular flavors is equal to \n",
    "$$\\frac{\\# \\text{ of ways to stack ice cream in a triple decker cone choosing from 12 flavors}}{\\# \\text{ of different triple decker cones using three particular flavors}} = \\frac{12\\cdot 11 \\cdot 10}{3\\cdot 2 \\cdot 1} $$ \n",
    "\n",
    "#### 1.2.6.35 Based on what you observed in Problem 34c, how many $k$-element subsets does an $n$-element set have?\n",
    "An $n$-element set has \n",
    "$$\\frac{n^{\\underline{k}}}{k!} = \\frac{(n-k+1)!}{k!}$$\n",
    "total subsets. In other words\n",
    "$$\\binom{n}{k} = \\frac{(n-k+1)!}{k!} $$\n",
    "\n",
    "#### 1.2.6.36 Find a bijection that proves that $\\binom{n}{k} = \\binom{n}{n-k}$.\n",
    "Let $A$ denote the set of $k$-element permutations of $[n]=\\{1,2,3,\\cdots,n\\}$ and $B$ denote the set of $(n-k)$-element permutations of $[n]$. The bijection is\n",
    "$$f : A\\to B, \\ x\\mapsto [n]\\setminus x.$$\n",
    "Verbally, this function can be described as mapping a $k$-element permutation $x$ to a $(n-k)$-element permutation $f(x)$ that contains the elements of $[n]$ that are not in $x$. So for example if $x=\\{1,2,3,\\cdots,k\\}$ then $f(x)=\\{k+1,k+2,\\cdots,n\\}$.\n",
    "\n",
    "#### 1.2.6.37 In how many ways can we pass out $k$ (identical) ping-pong balls to $n$ children if each child may get at most one?\n",
    "We assume $k\\leq n$ and the answer is $\\binom{n}{k}$. Since the ping-pong balls are identical they can not be distinguished so we cannot assign an ordering to them. In other words it doesn't make sense to label the ping-pong balls since once they are passed out we do have no way of knowing which ball is which.\n",
    "\n",
    "#### 1.2.6.38 In how many ways may $n$ people sit around a round table? (Assume that when people are sitting around a round table, all that really matters is who is to each person’s right.)\n",
    "We can think of this problem as counting the number of bijections between the set $[n]$ and itself which is equivalent to counting the number of length $n$ permutations which is $n!$. The visualization of a circle is essentially redundant since all that matters is what person sits to the right. Hence we can list the numbers $1$ through $n$ succesively which will mark one particular arrangement. From there we must find all of the unique permutations of this list.\n",
    "\n",
    "#### 1.2.6.39 The questions that follow are about the corresponding partition of the set of $k$-element permutations of an $n$-element set $S$, where $S$ and $k$ are arbitrary.\n",
    "##### (a) How many permutations are there in a block?\n",
    "The are $k!$ permutation in each block since each block consists of set of $k$ elements.\n",
    "\n",
    "##### (b) Since $S$ has $n$ elements, what does Problem 20 tell you about the total number of $k$-element permutations of $S$?\n",
    "The number of $k$-element permutations of $S$ is given by $n^{\\underline{k}} = n(n-1)\\cdot(n-k+1)$.\n",
    "\n",
    "##### (c) Describe a bijection between the set of blocks of the partition and the set of $k$-element subsets of $S$.\n",
    "A block contains all permutations of a $k$-element list, but each permutation of a $k$-element set yields only $1$ unique set. Thus, we map each set of blocks to its corresponding $k$-element subset of $S$, since each block contains only one set. This is a bijection since there are the same number of blocks of the partition as there are $k$-element subsets of $S$. Since these are finite sets with the same cardinality we are guaranteed that there is a bijection between them. So for instance if we have the block $\\{(1,2),(2,1)\\}$ it would be mapped to $\\{\\{1,2\\}\\}$.\n",
    "\n",
    "##### (d) What formula does this give you for the number $\\binom{n}{k}$ of $k$-element subsets of an $n$-element set?\n",
    "The same formula as before! It says that $\\binom{n}{k} = \\frac{n^{\\underline{k}}}{k!}$, or in words the number of $k$-element subsets of an $n$-element set is equal to the number of $k$ element permutations of an $n$-element set divided by the number of length $k$ permutations."
   ]
  }
 ],
 "metadata": {
  "kernelspec": {
   "display_name": "Python 2",
   "language": "python",
   "name": "python2"
  },
  "language_info": {
   "codemirror_mode": {
    "name": "ipython",
    "version": 2
   },
   "file_extension": ".py",
   "mimetype": "text/x-python",
   "name": "python",
   "nbconvert_exporter": "python",
   "pygments_lexer": "ipython2",
   "version": "2.7.13"
  }
 },
 "nbformat": 4,
 "nbformat_minor": 2
}
