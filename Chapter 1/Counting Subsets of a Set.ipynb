{
 "cells": [
  {
   "cell_type": "markdown",
   "metadata": {},
   "source": [
    "## 1.2.4 Counting Subsets of a Set\n",
    "#### 1.2.4.28 Describe a bijection between the binary representations of the integers between $0$ and $2n − 1$ and the subsets of an $n$-element set. What does this tell you about the number of subsets of the $n$-element set $[n]$?\n",
    "\n",
    "We assume that each binary digit is written with $n$ digits, e.g. if $n=2$ then the binary representations of $0$ through $3$ are $0:=00, 1:=01, 2:=10, 3:=11$. With this convention it is simple to construct a bijection between the binary representations of the integers between 0 and $2^{n}-1$ as follows: we treat each binary representation as an indication whether or not the $i^{th}$ element of the list $\\{1,2,3,\\cdots, n-1,n\\}$ is present in the subset. If the $i^{th}$ element in the binary representation is a 0 then the element is not present in the subset and if the $i^{th}$ element in the binary representation is a 1 then the element is present int the subset. So for example if $n=2$ then the bijection is\n",
    "$$\n",
    "\\begin{align*}\n",
    "00 &\\mapsto \\{ \\} \\\\\n",
    "01 &\\mapsto \\{2\\} \\\\\n",
    "10 &\\mapsto \\{1\\} \\\\\n",
    "11 &\\mapsto \\{1,2,\\}\n",
    "\\end{align*}\n",
    "$$\n",
    "\n",
    "This tells us that there are $2^n$ subsets of an $n$-element set which matches the result we derived in a previous section.\n",
    "\n",
    "#### 1.2.4.29 Let $C$ be the set of $k$-element subsets of $[n]$ that contain the number $n$, and let $D$ be the set of $k$-element subsets of $[n]$ that don’t contain $n$.\n",
    "##### (a) Let $C′$ be the set of $(k−1)$-element subsets of $[n − 1]$. Describe a bijection from $C$ to $C′$. \n",
    "The two keys observations to make to solve this problem are \n",
    "1. $|C| = \\frac{n^{\\underline{k}}}{n} = (n-1)\\cdots(n-k+1) = (n-1)^{\\underline{k-1}} = |C'|$\n",
    "2. The elements in $C'$ are identical to the elements of $C$ if we add the number $n$ to each member of $C'$.\n",
    "\n",
    "In reality once we know that $|C|=|C'|$ we can conclude that there exists a bijection without explicitly stating one, but I think that the goal of the problem is to recognize the point made in 2. A simple example does a better job of explaining this observation. Take $n=5$ and $k=3$ then we have\n",
    "$$C = \\{\\{5,1,2\\},\\{5,1,3\\},\\{5,1,4\\},\\{5,2,3\\},\\{5,2,4\\},\\{5,3,4\\}\\}, \\ C' = \\{\\{1,2\\},\\{1,3\\},\\{1,4\\},\\{2,3\\},\\{2,4\\},\\{3,4\\}\\}$$\n",
    "\n",
    "Thus the particular bijection we choose maps an element $x\\in C$ to the elements in $C'$ such that \n",
    "$$x\\mapsto x\\setminus \\{n\\}$$\n",
    "\n",
    "##### (b) Let $D′$ be the set of $k$-element subsets of $[n−1] = \\{1, 2, . . . n−1\\}$. Describe a bijection from $D$ to $D′$.\n",
    "The key observation here is that $D=D'$. This is because $D = [n]$ but we are taking subsets that exclude $n$, hence $$D = [n]\\setminus\\{n\\} = [n-1] = D'.$$ \n",
    "Thus we take the bijection $x\\mapsto x$.\n",
    "\n",
    "##### (c) Based on the two previous parts, express the sizes of $C$ and $D$ in terms of binomial coefficients involving $n−1$ instead of $n$.\n",
    "$|C| = \\binom{n-1}{k-1}$ since $n$ has already been chosen which leaves us with $k-1$ elements to choose and $|D| = \\binom{n-1}{k}$ since $n$ is not among the elements to be chosen, leaving $n-1$ elements to choose from.\n",
    "\n",
    "##### (d) Apply the sum principle to $C$ and $D$ and obtain a formula that expresses $\\binom{n}{k}$  in terms of two binomial coefficients involving $n-1$.\n",
    "We know that $C\\cup D$ is equal to the set of $k$-element subsets of $[n]$ and also that $C\\cap D = \\emptyset$. Thus we may conclude that\n",
    "$$\\binom{n}{k} = |C| + |D| = \\binom{n-1}{k-1} + \\binom{n-1}{k}$$"
   ]
  }
 ],
 "metadata": {
  "kernelspec": {
   "display_name": "Python 2",
   "language": "python",
   "name": "python2"
  },
  "language_info": {
   "codemirror_mode": {
    "name": "ipython",
    "version": 2
   },
   "file_extension": ".py",
   "mimetype": "text/x-python",
   "name": "python",
   "nbconvert_exporter": "python",
   "pygments_lexer": "ipython2",
   "version": "2.7.13"
  }
 },
 "nbformat": 4,
 "nbformat_minor": 2
}
