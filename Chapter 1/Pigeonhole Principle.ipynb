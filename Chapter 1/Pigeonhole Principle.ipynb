{
 "cells": [
  {
   "cell_type": "markdown",
   "metadata": {},
   "source": [
    "### 1.3.3 The Pigeonhole Principle\n",
    "#### 60 American coins are all marked with the year in which they were made. How many coins do you need to have in your hand to guarantee that on two (at least) of them, the date has the same last digit?\n",
    "There are $10$ possibile final digits that any coin can have: $0,1,2,3,4,5,6,7,8,9$. So it is possible that we can have $10$ coins in our hand each with a distinct last number. However once we have $11$ coins there are more coins than possible final digits, leading us to conclude that at least two of them has the same last digit. \n",
    "\n",
    "#### 61 Show that if we have a function from a set of size $n$ to a set of size less than $n$, then $f$ is not one-to-one.\n",
    "Let $f: S \\to T$ where $|S|=n$ and $|T|=k$ where $k<n$. By contradiction assume that $f$ is one-to-one. Since $f$ is one-to-one each element $x\\in S$ maps to a unique element $f(x)\\in T$ and since there are $n$ elements in $x$ this implies that there are also $n$ elements in $T$. But since there are $k<n$ elements in $T$ this is impossible, hence we conclude that $f$ is not one-to-one.\n",
    "\n",
    "#### 62 Show that if $S$ and $T$ are finite sets of the same size, then a function $f$ from $S$ to $T$ is one-to-one if and only if it is onto.\n",
    "Assume that $|S|=|T|=n$ and let $f: S\\to T$ be a function. First assume that $f$ is one-to-one. Since $f$ is 1-1, each element $x\\ S$ maps to a unique element $f(x)\\in T$ which implies that $f$ is onto due to the fact that $|S|=|T|=n$.\n",
    "Now conversely, assume that $f$ is onto. It follows immediately that $f$ is 1-1 since $f$ is a function and $|S|=|T|=n$."
   ]
  }
 ],
 "metadata": {
  "kernelspec": {
   "display_name": "Python 2",
   "language": "python",
   "name": "python2"
  },
  "language_info": {
   "codemirror_mode": {
    "name": "ipython",
    "version": 2
   },
   "file_extension": ".py",
   "mimetype": "text/x-python",
   "name": "python",
   "nbconvert_exporter": "python",
   "pygments_lexer": "ipython2",
   "version": "2.7.13"
  }
 },
 "nbformat": 4,
 "nbformat_minor": 2
}
