{
 "cells": [
  {
   "cell_type": "markdown",
   "metadata": {},
   "source": [
    "# 1.2 - Basic Counting Principles\n",
    "\n",
    "### 1.2.15\n",
    "#### A roller coaster car has $n$ rows of seats, each of which has room for two people. If $n$ men and $n$ women get into the car with a man and a woman in each row, in how many ways may they choose their seats? \n",
    "\n",
    "For the first row we have $n$ men to choose from and $n$ women to choose from. For the second row we have $n-1$ men to choose from and $n-1$ women to choose from. This continues on until we have filled all the rows. But we must not forget that in each row there are also two choices to make: who sits in the left seat, the man or woman. Thus in total we must make\n",
    "$$n!n!2^n$$\n",
    "choices, hence there are $n!^2 \\cdot 2^n$ possible ways to choose the seats.\n",
    "\n",
    "### 1.2.17\n",
    "#### In how many ways can we pass out $k$ distinct pieces of fruit to $n$ children (with no restriction on how many pieces of fruit a child may get)?\n",
    "Since there are no restrictions on how many pieces of fruit a child may get, for each piece of fruit we have $n$ choices to make (one for each child). Thus in total we can pass out the $k$ pieces of fruit in $n^k$ ways.\n",
    "\n",
    "### 1.2.18\n",
    "#### How many subsets does a set $S$ with $n$ elements have?\n",
    "For each element of $S$ we have 2 choices to make for each of the $n$ elements. We must choose if the $i^{th}$ element ($i=1,\\cdots,n$) is a member of the subset or not a member of the subset. Hence in total we have $2^n$ choices to make, so that there must be $2^n$ subsets of $S$.\n",
    "\n",
    "### 1.2.19\n",
    "#### Assuming $k \\leq n$, in how many ways can we pass out $k$ distinct pieces of fruit to $n$ children if each child may get at most one? What is the number if $k > n$? Assume for both questions that we pass out all the fruit.\n",
    "We have a sequence of $k$ choices to make: fruit 1 can go to $n$ possible chilren, fruit 2 can go to $n-1$ possible children, $\\cdots$, and fruit $k$ can go to $n-k+1$ possible children. That gives $n(n-1)\\cdots(n-k+1)$ possible ways to pass out the $k$ pieces of fruit to $n$ children.\n",
    "\n",
    "If, on the other hand, $k>n$ then there are more pieces of fruit than there are children, so there is no way to pass out each piece of fruit giving each child only one piece. Thus we must allow each child to have more than 1 fruit. We can require, however, that each child get at least 1 piece of fruit before any child is allowed to receive another piece. In this case there are $n$ choices for fruit 1, $(n-2)$ choices for fruit 2, $\\cdots$, $(n-(n+2))=2$ choices for fruit $n-1$, and $(n-(n+1))=1$ choice for fruit $n$. At this point each child has a fruit but there are still $k-n$ pieces of fruit remaining. Let us assume that $k-n<n$, so we only have to do one more round of passing out fruit (if $k-n>n$ we will run into the case where each child ends up with 2 pieces of fruit). Thus, there are $n$ choices for fruit $n+1$, $n-1$ choices for fruit $n+2$,$\\cdots$, $n-r-1$ choices for fruit $k$ where $r=k-n$. This gives a total of\n",
    "$$n!\\cdot n(n-1)\\cdots(n-r-1)$$\n",
    "choices.\n",
    "\n",
    "### 1.2.20\n",
    "#### Another name for a list, in a specific order, of $k$ distinct things chosen from a set $S$ is a $k$-element permutation of $S$. We can also think of a $k$-element permutation of $S$ as a one-to-one function (or, in other words, injection) from $[k] = \\{1, 2, \\cdots , k\\}$ to $S$. How many $k$-element permutations does an $n$-element set have? (For this problem it is natural to assume $k \\leq n$. However, the question makes sense even if $k > n$.) What is the number of $k$-element permutations of an $n$-element set if $k > n$?\n",
    "\n",
    "If $k\\leq n$ then there are $n(n-1)\\cdots(n-k+1)$ $k$-element permutations of an $n$-element set.\n",
    "\n",
    "If $k>n$ and $r=k-n$ then there are $n!\\cdot n(n-1)\\cdots (n-r)$ $k$-element permutations of an $n$-element set. In this case however, one cannot write a single permutation and must instead write a product of permutations, one of length $n$ and another of length $r$.\n",
    "\n",
    "\n",
    "### 1.2.21 \n",
    "#### Express $n^{\\underline{k}}$ as a quotient of factorials.\n",
    "We have that \n",
    "$$ \\frac{n!}{(n-k)!} = \\frac{n(n-1)\\cdots(n-k+1)(n-k)!}{(n-k)!}= n(n-1)\\cdots (n-k+1) = n^{\\underline{k}}$$\n",
    "\n",
    "### 1.2.22\n",
    "#### How should we define $n^{\\underline{0}}$?\n",
    "$n^{\\underline{0}}$ should be defined as 1.  This is because a \"length 0\" permutation can be thought of as a permutation that fixes each element. There is 1 permutation that does this, and it is called the identity permutation."
   ]
  },
  {
   "cell_type": "code",
   "execution_count": null,
   "metadata": {
    "collapsed": true
   },
   "outputs": [],
   "source": []
  }
 ],
 "metadata": {
  "kernelspec": {
   "display_name": "Python 2",
   "language": "python",
   "name": "python2"
  },
  "language_info": {
   "codemirror_mode": {
    "name": "ipython",
    "version": 2
   },
   "file_extension": ".py",
   "mimetype": "text/x-python",
   "name": "python",
   "nbconvert_exporter": "python",
   "pygments_lexer": "ipython2",
   "version": "2.7.13"
  }
 },
 "nbformat": 4,
 "nbformat_minor": 2
}
