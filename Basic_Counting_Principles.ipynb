{
 "cells": [
  {
   "cell_type": "markdown",
   "metadata": {},
   "source": [
    "# Basic Counting Principles\n",
    "\n",
    "## Making pairs from a list\n",
    "A tennis club as $2n$ members. We want to pair up the members by twos for singles matches.\n",
    "\n",
    "1. In how many ways can we pair up all the members of the club? (Hint: consider the cases of 2,4, and 6 members)\n",
    "2. Suppose that in addition to specifying who plays whom, for each pairing we say who serves first. Now in how many ways may we specificy our pairs?\n",
    "\n",
    "So how to start the problem? As the hint suggests (and is generally a good idea) we start tinkering around with numbers that we can play around with. I started with $4$ members, since it's pretty clear that there is only 1 way to pair up 2 people. \n",
    "\n",
    "Okay so there are 4 members, which we will label as $\\{1,2,3,4\\}$ (nothing fancy yet). Let's just start getting our hands dirty and write down all of the possibilities where we will write $a\\leftrightarrow b$ to denote that $a$ plays against $b$:\n",
    "$$\n",
    "\\begin{align*}\n",
    "1 \\leftrightarrow 2, \\  & 3 \\leftrightarrow 4 \\\\\n",
    "1 \\leftrightarrow 3, \\  & 2 \\leftrightarrow 4 \\\\\n",
    "1 \\leftrightarrow 4, \\  & 2 \\leftrightarrow 3.\n",
    "\\end{align*}\n",
    "$$\n",
    "These are all of the possibilities since we are not yet worried about any sort of ordering and we see that there are 3 ways to pair up the 4 members (each row is one possibility). \n",
    "\n",
    "So when there are 4 members there are 3 possible pairings and when there are 2 members there is 1 possible pairing. At this point it is tempting to assume that if there are $2n$ members, then there are $2n-1$ possible pairings, but it turns out this is incorrect and we quickly verify this when we move up to the case of 6 members. In this case I won't write out all of the combinations here (I did do it on paper though) and instead will use just list the first few possiblities:\n",
    "$$\n",
    "\\begin{align*}\n",
    "&1 \\leftrightarrow 2, &3 \\leftrightarrow 4, \\ &5\\leftrightarrow 6 \\\\\n",
    "&1 \\leftrightarrow 2, &3 \\leftrightarrow 5, \\ &4\\leftrightarrow 6 \\\\\n",
    "&1 \\leftrightarrow 2, &3 \\leftrightarrow 6, \\ &4\\leftrightarrow 5 \\\\\n",
    "&1 \\leftrightarrow 3, &2 \\leftrightarrow 4, \\ &4\\leftrightarrow 6 \\\\\n",
    "&1 \\leftrightarrow 3, &2 \\leftrightarrow 5, \\ &4\\leftrightarrow 6 \\\\\n",
    "&1 \\leftrightarrow 3, &2 \\leftrightarrow 6, \\ &4\\leftrightarrow 5 \\\\\n",
    "&              &\\vdots                 & \n",
    "\\end{align*}\n",
    "$$\n",
    "If we continue in this fashion we find that there are 15 possible pairings and $15\\neq 6-1 = 5$ so our first guess was wrong, but there is a pattern to see and one can think about it in a few different ways. From our tabulated pairings we sort of created a rough adhoc algorithm without realizing it (at least I didn't realize it at first). \n",
    "\n",
    "In the case of $6$ memebers we pick the first member and can pair it with 5 possible members; after selection this leaves 4 members remaining. Then we pick another member that has not already been chosen and can pair it with 3 possible members; after selection this leaves 2 members remaining. Finally we pick another member and can pair it with only 1 member. Now we are done. \n",
    "\n",
    "All in all we had to make 3 choices -- who to pair the first member with from **5 possible choices**, who to pair the second member with from **3 possible choices**, and who to pair the final member we pick from **1 possible choice**. Thus we end up with $5\\cdot 3 \\cdot 1 = 15$ total combinations. By this reasoning we have used the product rule for combinations. We can also think of the problem as a selection problem. In the case of 6 members we performed the following number of choices:\n",
    "$$ \\frac{\\binom{6}{2}}{3} \\frac{\\binom{4}{2}}{2} \\frac{\\binom{2}{2}}{1} = \\frac{15}{3} \\frac{6}{2} \\frac{1}{1} = 5\\cdot 3 \\cdot 1.$$\n",
    "The logic behind this is as follows, first from the 6 members we choose 2 but we need to divide by $\\frac{6}{2}=3$ since each exhaustive pairing will contain 3 matches. Now we have 4 members remaining and from those 4 members we choose 2, but again must divide by $\\frac{4}{2}=2$ due to overcounting. "
   ]
  }
 ],
 "metadata": {
  "kernelspec": {
   "display_name": "Python 2",
   "language": "python",
   "name": "python2"
  },
  "language_info": {
   "codemirror_mode": {
    "name": "ipython",
    "version": 2
   },
   "file_extension": ".py",
   "mimetype": "text/x-python",
   "name": "python",
   "nbconvert_exporter": "python",
   "pygments_lexer": "ipython2",
   "version": "2.7.13"
  }
 },
 "nbformat": 4,
 "nbformat_minor": 2
}
