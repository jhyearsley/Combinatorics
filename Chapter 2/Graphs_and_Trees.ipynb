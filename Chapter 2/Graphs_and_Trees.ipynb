{
 "cells": [
  {
   "cell_type": "markdown",
   "metadata": {},
   "source": [
    "## 2.3 Graphs and Trees\n",
    "### 2.3.1 Undirected Graphs\n",
    "#### 102 The sum of the degrees of the vertices of a (finite) graph is related in a natural way to the number of edges.\n",
    "##### (a) What is the relationship?\n",
    "The sum of the degrees of the vertices is equal to the number of edges in the graph multiplied by 2. Mathematically, if we let $d_i$ denote the degree of vertex $i$ and write $|E|$ for the cardinality of the edge set we have\n",
    "$$ \\sum_{i=1}^n d_i = 2\\cdot |E|$$\n",
    "\n",
    "##### (b) Find a proof that what you say is correct that uses induction on the number of edges.\n",
    "Let $D_n$ denote the sum of the degree of vertices of a graph with $n$ edges. Then the following recurrence holds\n",
    "$$D_n = D_{n-1} + 2, \\ D_0 = 0.$$\n",
    "\n",
    "The recurrence is justified since each edge has $2$ endpoints, and each endpoint contributes a \"degree-unit\" to the total number of degrees. Thus each edge will always increase the degree sum by $2$.\n",
    "\n",
    "The solution to the recurrence is $D_n = 2n$ and the proof is done by induction on $n$. The base case holds when \n",
    "$n=1$ since\n",
    "$$D_1 = D_0 + 2 = 0 + 2 = 2(1) = 2.$$\n",
    "Now inductively assume that $D_{n-1} = 2(n-1)$ for some integer $n-1$ and we have\n",
    "$$D_n = D_{n-1} + 2 = 2(n-1) + 2 = 2n.$$\n",
    "\n",
    "##### (c) Find a proof that what you say is correct that uses induction on the number of vertices.\n",
    "Without loss of generality we assume that there are no null vertices (i.e. vertices with degree 0) since if there are they will contribute nothing to the degree sum. This assumption implies that each vertex is connected to at least $1$ edge.\n",
    "\n",
    "A graph with $0$ vertices has $0$ edges so the sum of the degrees of the vertices is trivially equal to twice the number of edges. Now suppose inductively that the degree sum for a graph with $n-1$ vertices is equal to twice the number of edges. Let $G$ be a graph with $n$ vertices and let $v$ be an arbitrary vertex from $G$. Delete $v$ from $G$ and denote the modified graph $G' = G \\setminus v$. Now $G'$ has $n-1$ vertices so the inductive hypothesis applies and thus we may conclude that the sum of the degrees of the $n-1$ vertices of $G'$ is equal to twice the number of edges in $G'$, say $2m$ for some integer $m$ (i.e. $G'$ has $m$ edges).\n",
    "\n",
    "Since we initially assumed that there are no null vertices in the original graph $G$ we know that at least $1$ edge was deleted from $G$. Assume that $k$ edges were deleted where $k\\geq 1$. This implies that $G$ had $m+k$ edges. Now we know that the degree sum of $G'$ is $2m$ and since $k$ edges were deleted from $G$ this implies that the degree sum of $G$ is equal to the degree sum of $G'$ + $2k$ (each edge deleted contributes $2$ to the degree sum). Thus we conclude that the degree sum of $G = 2m+2k = 2(m+k)$ which is twice the number of edges, the result we set out to show.\n",
    "\n",
    "##### (d) Find a proof that what you say is correct that does not use induction.\n",
    "The rough argument is that the degree sum of the vertices increases by two for every edge added to the graph. Thus for $n$ edges, the degree sum will be of size $2n$.\n",
    "\n",
    "\n",
    "#### 103 What can you say about the number of vertices of odd degree in a graph?\n",
    "Based on the relationship proved in the previous exercise we know that the sum of the degrees of the vertices is even. This implies that there must always be an even number of vertices of odd degree, for if not the sum of the degrees of the vertices would be odd.\n",
    "\n",
    "\n",
    "### 2.3.3 Counting vertices, edges, and paths in trees\n",
    "#### 108 Make a conjecture about the relationship between the number of vertices and edges in a tree. Prove your conjecture.\n",
    "A tree is a connected graph with no cycles. The claim is that for a tree $T$ the number of vertices $|V|$ is equal to one plus the number of edges $|E|$. Mathematically\n",
    "$$|V| = 1 + |E|.$$\n",
    "Before proceeding with the proof, we note that any tree $T'$ can be thought of as the result of inserting one edge and one vertex onto a tree $T$. Thus a tree is a recursive structure by construction.\n",
    "\n",
    "The proof is done by induction on the number of edges. A tree with $0$ edges indeed must have only $1$ vertex so the base case holds. Now inductively assume that a tree with $n-1$ edges has $n$ vertices and suppose we are given a tree $T$ with $n-1$ edges. Pick any vertex $v$ from $T$ and insert one edge emanating from $v$ and connecting to a new edge $v'$ to get a new tree $T'$. Since $T'$ was constructed by adding one vertex and one edge to $T$ it follows that $T'$ has $n$ edges and $n+1$ vertices which proves the result.  \n",
    "\n",
    "#### 109 What is the minimum number of vertices of degree one in a finite tree? What is it if the number of vertices is bigger than one? Prove that you are correct.\n",
    "The minimum number of vertices of degree one in a finite tree is $0$ if there only one vertex in the tree. However if there is more than one vertex in the tree the minimum number of vertices with finite degree is one vertex. This result follows from the previous exercise since we argued that a tree is constructed by inserting one vertex and one edge at a time. Therefore we are guaranteed that when constructing a tree after the final insertion there must be at least one vertex of degree one, namely the final vertex inserted into the tree. \n",
    "\n",
    "#### 110 In a tree on any number of vertices, given two vertices, how many paths can you find between them? Prove that you are correct.\n",
    "Between any two vertices on a tree there is one unique path. The proof is done by contradiction. To that end assume that we are given two vertices $v_1,v_n$ from a tree $T$ and there exist at least two different paths starting from $v_1$ and ending at $v_n$ which we denote $p_1,p_2$. Since the paths are different they must cross at some point after the beginning. In particular the paths will either not cross at all until they meet at the point $v_n$ or they will cross at some point before reaching the point $v_n$. In either case however, this implies that there is a cycle in $T$ which would mean that $T$ is not a tree. Because of this contradiction we must conclude that there is only one path from $v_1$ to $v_n$ (since there cannot be $0$ or less paths due to the fact that a tree is connected)."
   ]
  }
 ],
 "metadata": {
  "kernelspec": {
   "display_name": "Python 2",
   "language": "python",
   "name": "python2"
  },
  "language_info": {
   "codemirror_mode": {
    "name": "ipython",
    "version": 2
   },
   "file_extension": ".py",
   "mimetype": "text/x-python",
   "name": "python",
   "nbconvert_exporter": "python",
   "pygments_lexer": "ipython2",
   "version": "2.7.13"
  }
 },
 "nbformat": 4,
 "nbformat_minor": 2
}
