{
 "cells": [
  {
   "cell_type": "markdown",
   "metadata": {},
   "source": [
    "## 2.3 Graphs and Trees\n",
    "### 2.3.1 Undirected Graphs\n",
    "#### 102 The sum of the degrees of the vertices of a (finite) graph is related in a natural way to the number of edges.\n",
    "##### (a) What is the relationship?\n",
    "The sum of the degrees of the vertices is equal to the number of edges in the graph multiplied by 2. Mathematically, if we let $d_i$ denote the degree of vertex $i$ and write $|E|$ for the cardinality of the edge set we have\n",
    "$$ \\sum_{i=1}^n d_i = 2\\cdot |E|$$\n",
    "\n",
    "##### (b) Find a proof that what you say is correct that uses induction on the number of edges.\n",
    "Let $D_n$ denote the sum of the degree of vertices of a graph with $n$ edges. Then the following recurrence holds\n",
    "$$D_n = D_{n-1} + 2, \\ D_0 = 0.$$\n",
    "\n",
    "The recurrence is justified since each edge has $2$ endpoints, and each endpoint contributes a \"degree-unit\" to the total number of degrees. Thus each edge will always increase the degree sum by $2$.\n",
    "\n",
    "The solution to the recurrence is $D_n = 2n$ and the proof is done by induction on $n$. The base case holds when \n",
    "$n=1$ since\n",
    "$$D_1 = D_0 + 2 = 0 + 2 = 2(1) = 2.$$\n",
    "Now inductively assume that $D_{n-1} = 2(n-1)$ for some integer $n-1$ and we have\n",
    "$$D_n = D_{n-1} + 2 = 2(n-1) + 2 = 2n.$$\n",
    "\n",
    "##### (c) Find a proof that what you say is correct that uses induction on the number of vertices.\n",
    "Without loss of generality we assume that there are no null vertices (i.e. vertices with degree 0) since if there are they will contribute nothing to the degree sum. This assumption implies that each vertex is connected to at least $1$ edge.\n",
    "\n",
    "A graph with $0$ vertices has $0$ edges so the sum of the degrees of the vertices is trivially equal to twice the number of edges. Now suppose inductively that the degree sum for a graph with $n-1$ vertices is equal to twice the number of edges. Let $G$ be a graph with $n$ vertices and let $v$ be an arbitrary vertex from $G$. Delete $v$ from $G$ and denote the graph $G' = G \\ v$. Now $G'$ has $n-1$ vertices so the inductive hypothesis applies and thus we may conclude that the sum of the degrees of the $n-1$ vertices of $G'$ is equal to twice the number of edges in $G'$, say $2m$ for some integer $m$.\n",
    "\n",
    "##### (d) Find a proof that what you say is correct that does not use induction.\n",
    "\n",
    "\n",
    "\n",
    "#### 103 What can you say about the number of vertices of odd degree in a graph?\n",
    "Based on the relationship proved in the previous exercise we know that the sum of the degrees of the vertices is even. This implies that there must always be an even number of vertices of odd degree, for if not the sum of the degrees of the vertices would be odd."
   ]
  },
  {
   "cell_type": "code",
   "execution_count": null,
   "metadata": {
    "collapsed": true
   },
   "outputs": [],
   "source": []
  }
 ],
 "metadata": {
  "kernelspec": {
   "display_name": "Python 2",
   "language": "python",
   "name": "python2"
  },
  "language_info": {
   "codemirror_mode": {
    "name": "ipython",
    "version": 2
   },
   "file_extension": ".py",
   "mimetype": "text/x-python",
   "name": "python",
   "nbconvert_exporter": "python",
   "pygments_lexer": "ipython2",
   "version": "2.7.13"
  }
 },
 "nbformat": 4,
 "nbformat_minor": 2
}
